{
 "cells": [
  {
   "cell_type": "code",
   "execution_count": 1,
   "id": "fdf7ee4c",
   "metadata": {},
   "outputs": [],
   "source": [
    "#import all packages\n",
    "import geopandas as gpd\n",
    "import pandas as pd"
   ]
  },
  {
   "cell_type": "code",
   "execution_count": 2,
   "id": "91fbcde2",
   "metadata": {},
   "outputs": [],
   "source": [
    "# read the file into a geodataframe\n",
    "landslide_data = gpd.read_file('a0000000a.gdbtable')"
   ]
  },
  {
   "cell_type": "code",
   "execution_count": 3,
   "id": "b40e09dd",
   "metadata": {},
   "outputs": [
    {
     "data": {
      "text/html": [
       "<div>\n",
       "<style scoped>\n",
       "    .dataframe tbody tr th:only-of-type {\n",
       "        vertical-align: middle;\n",
       "    }\n",
       "\n",
       "    .dataframe tbody tr th {\n",
       "        vertical-align: top;\n",
       "    }\n",
       "\n",
       "    .dataframe thead th {\n",
       "        text-align: right;\n",
       "    }\n",
       "</style>\n",
       "<table border=\"1\" class=\"dataframe\">\n",
       "  <thead>\n",
       "    <tr style=\"text-align: right;\">\n",
       "      <th></th>\n",
       "      <th>SLIDE_TYPE</th>\n",
       "      <th>M_WIDTH</th>\n",
       "      <th>S_LENGTH</th>\n",
       "      <th>SLOPE</th>\n",
       "      <th>COVER</th>\n",
       "      <th>YEAR_1</th>\n",
       "      <th>HEADELEV</th>\n",
       "      <th>TAILELEV</th>\n",
       "      <th>ELE_DIFF</th>\n",
       "      <th>GULLY</th>\n",
       "      <th>CLASS</th>\n",
       "      <th>ENTLI_NO</th>\n",
       "      <th>EASTING</th>\n",
       "      <th>NORTHING</th>\n",
       "      <th>Shape_Length</th>\n",
       "      <th>geometry</th>\n",
       "    </tr>\n",
       "  </thead>\n",
       "  <tbody>\n",
       "    <tr>\n",
       "      <th>0</th>\n",
       "      <td>R</td>\n",
       "      <td>10.5</td>\n",
       "      <td>16.0</td>\n",
       "      <td>44.0</td>\n",
       "      <td>C</td>\n",
       "      <td>1964</td>\n",
       "      <td>136.0</td>\n",
       "      <td>127.0</td>\n",
       "      <td>9.0</td>\n",
       "      <td>N</td>\n",
       "      <td>A2</td>\n",
       "      <td>02NED0001E</td>\n",
       "      <td>829062.359007</td>\n",
       "      <td>842154.704576</td>\n",
       "      <td>16.246627</td>\n",
       "      <td>MULTILINESTRING ((829062.359 842154.705, 82904...</td>\n",
       "    </tr>\n",
       "    <tr>\n",
       "      <th>1</th>\n",
       "      <td>R</td>\n",
       "      <td>11.5</td>\n",
       "      <td>14.0</td>\n",
       "      <td>29.0</td>\n",
       "      <td>C</td>\n",
       "      <td>1964</td>\n",
       "      <td>122.0</td>\n",
       "      <td>113.0</td>\n",
       "      <td>9.0</td>\n",
       "      <td>N</td>\n",
       "      <td>C1</td>\n",
       "      <td>02NED0002E</td>\n",
       "      <td>829176.865680</td>\n",
       "      <td>842509.807641</td>\n",
       "      <td>13.765049</td>\n",
       "      <td>MULTILINESTRING ((829176.866 842509.808, 82917...</td>\n",
       "    </tr>\n",
       "    <tr>\n",
       "      <th>2</th>\n",
       "      <td>R</td>\n",
       "      <td>10.0</td>\n",
       "      <td>16.0</td>\n",
       "      <td>22.0</td>\n",
       "      <td>C</td>\n",
       "      <td>1964</td>\n",
       "      <td>48.0</td>\n",
       "      <td>39.0</td>\n",
       "      <td>9.0</td>\n",
       "      <td>N</td>\n",
       "      <td>A2</td>\n",
       "      <td>02NED0003E</td>\n",
       "      <td>827401.227700</td>\n",
       "      <td>842230.475928</td>\n",
       "      <td>16.192822</td>\n",
       "      <td>MULTILINESTRING ((827401.228 842230.476, 82738...</td>\n",
       "    </tr>\n",
       "    <tr>\n",
       "      <th>3</th>\n",
       "      <td>R</td>\n",
       "      <td>11.0</td>\n",
       "      <td>22.5</td>\n",
       "      <td>22.0</td>\n",
       "      <td>C</td>\n",
       "      <td>1964</td>\n",
       "      <td>53.0</td>\n",
       "      <td>42.0</td>\n",
       "      <td>11.0</td>\n",
       "      <td>N</td>\n",
       "      <td>C1</td>\n",
       "      <td>02NED0004E</td>\n",
       "      <td>827407.309973</td>\n",
       "      <td>842208.930039</td>\n",
       "      <td>22.423121</td>\n",
       "      <td>MULTILINESTRING ((827407.310 842208.930, 82738...</td>\n",
       "    </tr>\n",
       "    <tr>\n",
       "      <th>4</th>\n",
       "      <td>R</td>\n",
       "      <td>12.5</td>\n",
       "      <td>14.0</td>\n",
       "      <td>43.0</td>\n",
       "      <td>C</td>\n",
       "      <td>1964</td>\n",
       "      <td>97.0</td>\n",
       "      <td>87.0</td>\n",
       "      <td>10.0</td>\n",
       "      <td>N</td>\n",
       "      <td>B1</td>\n",
       "      <td>02NED0005E</td>\n",
       "      <td>827526.113452</td>\n",
       "      <td>842190.282812</td>\n",
       "      <td>13.861750</td>\n",
       "      <td>MULTILINESTRING ((827526.113 842190.283, 82753...</td>\n",
       "    </tr>\n",
       "  </tbody>\n",
       "</table>\n",
       "</div>"
      ],
      "text/plain": [
       "  SLIDE_TYPE  M_WIDTH  S_LENGTH  SLOPE COVER YEAR_1  HEADELEV  TAILELEV  \\\n",
       "0          R     10.5      16.0   44.0     C   1964     136.0     127.0   \n",
       "1          R     11.5      14.0   29.0     C   1964     122.0     113.0   \n",
       "2          R     10.0      16.0   22.0     C   1964      48.0      39.0   \n",
       "3          R     11.0      22.5   22.0     C   1964      53.0      42.0   \n",
       "4          R     12.5      14.0   43.0     C   1964      97.0      87.0   \n",
       "\n",
       "   ELE_DIFF GULLY CLASS    ENTLI_NO        EASTING       NORTHING  \\\n",
       "0       9.0     N    A2  02NED0001E  829062.359007  842154.704576   \n",
       "1       9.0     N    C1  02NED0002E  829176.865680  842509.807641   \n",
       "2       9.0     N    A2  02NED0003E  827401.227700  842230.475928   \n",
       "3      11.0     N    C1  02NED0004E  827407.309973  842208.930039   \n",
       "4      10.0     N    B1  02NED0005E  827526.113452  842190.282812   \n",
       "\n",
       "   Shape_Length                                           geometry  \n",
       "0     16.246627  MULTILINESTRING ((829062.359 842154.705, 82904...  \n",
       "1     13.765049  MULTILINESTRING ((829176.866 842509.808, 82917...  \n",
       "2     16.192822  MULTILINESTRING ((827401.228 842230.476, 82738...  \n",
       "3     22.423121  MULTILINESTRING ((827407.310 842208.930, 82738...  \n",
       "4     13.861750  MULTILINESTRING ((827526.113 842190.283, 82753...  "
      ]
     },
     "execution_count": 3,
     "metadata": {},
     "output_type": "execute_result"
    }
   ],
   "source": [
    "landslide_data.head()"
   ]
  },
  {
   "cell_type": "code",
   "execution_count": 4,
   "id": "5a72553e",
   "metadata": {},
   "outputs": [
    {
     "data": {
      "text/plain": [
       "(111569, 16)"
      ]
     },
     "execution_count": 4,
     "metadata": {},
     "output_type": "execute_result"
    }
   ],
   "source": [
    "landslide_data.shape"
   ]
  },
  {
   "cell_type": "code",
   "execution_count": 5,
   "id": "4ba1035a",
   "metadata": {},
   "outputs": [],
   "source": [
    "#convert file to csv to use in PowerBi or Google Studio\n",
    "#data.to_csv('landslide2.csv')"
   ]
  },
  {
   "cell_type": "code",
   "execution_count": 6,
   "id": "7dc85bb0",
   "metadata": {},
   "outputs": [
    {
     "name": "stdout",
     "output_type": "stream",
     "text": [
      "<class 'geopandas.geodataframe.GeoDataFrame'>\n",
      "RangeIndex: 111569 entries, 0 to 111568\n",
      "Data columns (total 16 columns):\n",
      " #   Column        Non-Null Count   Dtype   \n",
      "---  ------        --------------   -----   \n",
      " 0   SLIDE_TYPE    111569 non-null  object  \n",
      " 1   M_WIDTH       111569 non-null  float64 \n",
      " 2   S_LENGTH      111569 non-null  float64 \n",
      " 3   SLOPE         111569 non-null  float64 \n",
      " 4   COVER         111569 non-null  object  \n",
      " 5   YEAR_1        111569 non-null  object  \n",
      " 6   HEADELEV      111569 non-null  float64 \n",
      " 7   TAILELEV      111569 non-null  float64 \n",
      " 8   ELE_DIFF      111569 non-null  float64 \n",
      " 9   GULLY         111569 non-null  object  \n",
      " 10  CLASS         111569 non-null  object  \n",
      " 11  ENTLI_NO      111569 non-null  object  \n",
      " 12  EASTING       111569 non-null  float64 \n",
      " 13  NORTHING      111569 non-null  float64 \n",
      " 14  Shape_Length  111569 non-null  float64 \n",
      " 15  geometry      111569 non-null  geometry\n",
      "dtypes: float64(9), geometry(1), object(6)\n",
      "memory usage: 13.6+ MB\n"
     ]
    }
   ],
   "source": [
    "# dataset information\n",
    "landslide_data.info()"
   ]
  },
  {
   "cell_type": "code",
   "execution_count": 7,
   "id": "81f36f1b",
   "metadata": {},
   "outputs": [
    {
     "data": {
      "text/plain": [
       "SLIDE_TYPE      0\n",
       "M_WIDTH         0\n",
       "S_LENGTH        0\n",
       "SLOPE           0\n",
       "COVER           0\n",
       "YEAR_1          0\n",
       "HEADELEV        0\n",
       "TAILELEV        0\n",
       "ELE_DIFF        0\n",
       "GULLY           0\n",
       "CLASS           0\n",
       "ENTLI_NO        0\n",
       "EASTING         0\n",
       "NORTHING        0\n",
       "Shape_Length    0\n",
       "geometry        0\n",
       "dtype: int64"
      ]
     },
     "execution_count": 7,
     "metadata": {},
     "output_type": "execute_result"
    }
   ],
   "source": [
    "landslide_data.isnull().sum()"
   ]
  },
  {
   "cell_type": "code",
   "execution_count": 9,
   "id": "0801ba0b",
   "metadata": {},
   "outputs": [
    {
     "data": {
      "text/plain": [
       "0"
      ]
     },
     "execution_count": 9,
     "metadata": {},
     "output_type": "execute_result"
    }
   ],
   "source": [
    "landslide_data.duplicated().sum()"
   ]
  },
  {
   "cell_type": "code",
   "execution_count": null,
   "id": "b2730c3a",
   "metadata": {},
   "outputs": [],
   "source": []
  }
 ],
 "metadata": {
  "kernelspec": {
   "display_name": "Python 3",
   "language": "python",
   "name": "python3"
  },
  "language_info": {
   "codemirror_mode": {
    "name": "ipython",
    "version": 3
   },
   "file_extension": ".py",
   "mimetype": "text/x-python",
   "name": "python",
   "nbconvert_exporter": "python",
   "pygments_lexer": "ipython3",
   "version": "3.7.13"
  }
 },
 "nbformat": 4,
 "nbformat_minor": 5
}
